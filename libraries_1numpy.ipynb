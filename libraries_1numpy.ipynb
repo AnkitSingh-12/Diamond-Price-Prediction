{
  "nbformat": 4,
  "nbformat_minor": 0,
  "metadata": {
    "colab": {
      "provenance": [],
      "authorship_tag": "ABX9TyPNnRYX8yE4jjR0+reMcapn",
      "include_colab_link": true
    },
    "kernelspec": {
      "name": "python3",
      "display_name": "Python 3"
    },
    "language_info": {
      "name": "python"
    }
  },
  "cells": [
    {
      "cell_type": "markdown",
      "metadata": {
        "id": "view-in-github",
        "colab_type": "text"
      },
      "source": [
        "<a href=\"https://colab.research.google.com/github/AnkitSingh-12/Diamond-Price-Prediction/blob/main/libraries_1numpy.ipynb\" target=\"_parent\"><img src=\"https://colab.research.google.com/assets/colab-badge.svg\" alt=\"Open In Colab\"/></a>"
      ]
    },
    {
      "cell_type": "code",
      "execution_count": null,
      "metadata": {
        "id": "wzBO8JtXtsHq"
      },
      "outputs": [],
      "source": [
        "import numpy as np"
      ]
    },
    {
      "cell_type": "code",
      "source": [
        "np.__version__"
      ],
      "metadata": {
        "colab": {
          "base_uri": "https://localhost:8080/",
          "height": 36
        },
        "id": "Hah0HqjKwZ0W",
        "outputId": "4525c484-a378-4a9c-d8e5-22e3344d245f"
      },
      "execution_count": null,
      "outputs": [
        {
          "output_type": "execute_result",
          "data": {
            "text/plain": [
              "'2.0.2'"
            ],
            "application/vnd.google.colaboratory.intrinsic+json": {
              "type": "string"
            }
          },
          "metadata": {},
          "execution_count": 9
        }
      ]
    },
    {
      "cell_type": "code",
      "source": [
        "l=[1,2,3]\n",
        "a=np.array(l)\n",
        "type(a)"
      ],
      "metadata": {
        "colab": {
          "base_uri": "https://localhost:8080/"
        },
        "id": "JXd02by1yLWe",
        "outputId": "d3f6d85b-fc20-41a7-b827-c22966928c17"
      },
      "execution_count": null,
      "outputs": [
        {
          "output_type": "execute_result",
          "data": {
            "text/plain": [
              "numpy.ndarray"
            ]
          },
          "metadata": {},
          "execution_count": 10
        }
      ]
    },
    {
      "cell_type": "code",
      "source": [
        "\n",
        "a=np.array([1,2,3])\n",
        "type(a)"
      ],
      "metadata": {
        "colab": {
          "base_uri": "https://localhost:8080/"
        },
        "id": "k-00nZmey3d4",
        "outputId": "b6d7dfc7-b0b3-43f4-f59c-f66c60cb41c2"
      },
      "execution_count": null,
      "outputs": [
        {
          "output_type": "execute_result",
          "data": {
            "text/plain": [
              "numpy.ndarray"
            ]
          },
          "metadata": {},
          "execution_count": 11
        }
      ]
    },
    {
      "cell_type": "code",
      "source": [
        "a.ndim"
      ],
      "metadata": {
        "colab": {
          "base_uri": "https://localhost:8080/"
        },
        "id": "4kMD_8-yzDyh",
        "outputId": "2fae56ec-fac3-4027-e0e4-673cef7a3f90"
      },
      "execution_count": null,
      "outputs": [
        {
          "output_type": "execute_result",
          "data": {
            "text/plain": [
              "1"
            ]
          },
          "metadata": {},
          "execution_count": 12
        }
      ]
    },
    {
      "cell_type": "code",
      "source": [
        "a=np.array([[1,2,3],\n",
        "            [4,5,6],\n",
        "            [7,8,9]])\n",
        "type(a)"
      ],
      "metadata": {
        "colab": {
          "base_uri": "https://localhost:8080/"
        },
        "id": "tojgydczzZN4",
        "outputId": "efdbcb0f-f4a3-4949-94e2-ba6a54349743"
      },
      "execution_count": null,
      "outputs": [
        {
          "output_type": "execute_result",
          "data": {
            "text/plain": [
              "numpy.ndarray"
            ]
          },
          "metadata": {},
          "execution_count": 13
        }
      ]
    },
    {
      "cell_type": "code",
      "source": [
        "a.ndim"
      ],
      "metadata": {
        "id": "52bpInRx0GOO",
        "outputId": "90f982f5-a1c2-4b3e-c0b9-62f6a479776f",
        "colab": {
          "base_uri": "https://localhost:8080/"
        }
      },
      "execution_count": null,
      "outputs": [
        {
          "output_type": "execute_result",
          "data": {
            "text/plain": [
              "2"
            ]
          },
          "metadata": {},
          "execution_count": 14
        }
      ]
    },
    {
      "cell_type": "markdown",
      "source": [
        "**DTYPE**\n"
      ],
      "metadata": {
        "id": "fm4wO_xi21EW"
      }
    },
    {
      "cell_type": "code",
      "source": [
        "#syntax\n",
        "#    array_varName.dtype\n",
        "a=np.array([True])\n",
        "print(a.dtype)\n",
        "a=np.array([True,10])\n",
        "print(a.dtype)\n",
        "a=np.array([True,10,59.7])\n",
        "print(a.dtype)\n",
        "a=np.array([True,10,59.7,(10+0j)])\n",
        "print(a.dtype)\n",
        "a=np.array([True,10,59.7,'hi'])\n",
        "print(a.dtype)\n",
        "a=np.array([True,10,59.7,'hi',{1,2,3}])\n",
        "print(a.dtype)\n",
        "a=np.array([True,10,59.7,'hi',{1:3}])\n",
        "print(a.dtype)\n",
        "a=np.array([True,10,59.7,'hi',[1,2,3]])#ERROR WE CANT TAKE LIST INSIDE ONE MORE LIST,IF WE CAN TAKE LIST INSIDE ONE MORE LIST ,TUPLE IT WILL CREATE ERROR\n",
        "print(a.dtype)\n",
        "\n",
        "\n",
        "#PRIORITY\n",
        "#bool<int< float<complex<str<object(set,tuple)"
      ],
      "metadata": {
        "colab": {
          "base_uri": "https://localhost:8080/",
          "height": 332
        },
        "id": "PWkpUX8yszbc",
        "outputId": "6b3e94f0-8379-44e8-aaca-4f77682f9d14"
      },
      "execution_count": null,
      "outputs": [
        {
          "output_type": "stream",
          "name": "stdout",
          "text": [
            "bool\n",
            "int64\n",
            "float64\n",
            "complex128\n",
            "<U32\n",
            "object\n",
            "object\n"
          ]
        },
        {
          "output_type": "error",
          "ename": "ValueError",
          "evalue": "setting an array element with a sequence. The requested array has an inhomogeneous shape after 1 dimensions. The detected shape was (5,) + inhomogeneous part.",
          "traceback": [
            "\u001b[0;31m---------------------------------------------------------------------------\u001b[0m",
            "\u001b[0;31mValueError\u001b[0m                                Traceback (most recent call last)",
            "\u001b[0;32m<ipython-input-15-f4162826f958>\u001b[0m in \u001b[0;36m<cell line: 0>\u001b[0;34m()\u001b[0m\n\u001b[1;32m     15\u001b[0m \u001b[0ma\u001b[0m\u001b[0;34m=\u001b[0m\u001b[0mnp\u001b[0m\u001b[0;34m.\u001b[0m\u001b[0marray\u001b[0m\u001b[0;34m(\u001b[0m\u001b[0;34m[\u001b[0m\u001b[0;32mTrue\u001b[0m\u001b[0;34m,\u001b[0m\u001b[0;36m10\u001b[0m\u001b[0;34m,\u001b[0m\u001b[0;36m59.7\u001b[0m\u001b[0;34m,\u001b[0m\u001b[0;34m'hi'\u001b[0m\u001b[0;34m,\u001b[0m\u001b[0;34m{\u001b[0m\u001b[0;36m1\u001b[0m\u001b[0;34m:\u001b[0m\u001b[0;36m3\u001b[0m\u001b[0;34m}\u001b[0m\u001b[0;34m]\u001b[0m\u001b[0;34m)\u001b[0m\u001b[0;34m\u001b[0m\u001b[0;34m\u001b[0m\u001b[0m\n\u001b[1;32m     16\u001b[0m \u001b[0mprint\u001b[0m\u001b[0;34m(\u001b[0m\u001b[0ma\u001b[0m\u001b[0;34m.\u001b[0m\u001b[0mdtype\u001b[0m\u001b[0;34m)\u001b[0m\u001b[0;34m\u001b[0m\u001b[0;34m\u001b[0m\u001b[0m\n\u001b[0;32m---> 17\u001b[0;31m \u001b[0ma\u001b[0m\u001b[0;34m=\u001b[0m\u001b[0mnp\u001b[0m\u001b[0;34m.\u001b[0m\u001b[0marray\u001b[0m\u001b[0;34m(\u001b[0m\u001b[0;34m[\u001b[0m\u001b[0;32mTrue\u001b[0m\u001b[0;34m,\u001b[0m\u001b[0;36m10\u001b[0m\u001b[0;34m,\u001b[0m\u001b[0;36m59.7\u001b[0m\u001b[0;34m,\u001b[0m\u001b[0;34m'hi'\u001b[0m\u001b[0;34m,\u001b[0m\u001b[0;34m[\u001b[0m\u001b[0;36m1\u001b[0m\u001b[0;34m,\u001b[0m\u001b[0;36m2\u001b[0m\u001b[0;34m,\u001b[0m\u001b[0;36m3\u001b[0m\u001b[0;34m]\u001b[0m\u001b[0;34m]\u001b[0m\u001b[0;34m)\u001b[0m\u001b[0;31m#ERROR WE CANT TAKE LIST INSIDE ONE MORE LIST,IF WE CAN TAKE LIST INSIDE ONE MORE LIST ,TUPLE IT WILL CREATE ERROR\u001b[0m\u001b[0;34m\u001b[0m\u001b[0;34m\u001b[0m\u001b[0m\n\u001b[0m\u001b[1;32m     18\u001b[0m \u001b[0mprint\u001b[0m\u001b[0;34m(\u001b[0m\u001b[0ma\u001b[0m\u001b[0;34m.\u001b[0m\u001b[0mdtype\u001b[0m\u001b[0;34m)\u001b[0m\u001b[0;34m\u001b[0m\u001b[0;34m\u001b[0m\u001b[0m\n\u001b[1;32m     19\u001b[0m \u001b[0;34m\u001b[0m\u001b[0m\n",
            "\u001b[0;31mValueError\u001b[0m: setting an array element with a sequence. The requested array has an inhomogeneous shape after 1 dimensions. The detected shape was (5,) + inhomogeneous part."
          ]
        }
      ]
    },
    {
      "cell_type": "markdown",
      "source": [
        "**shape**"
      ],
      "metadata": {
        "id": "_CIEBq2U2VS8"
      }
    },
    {
      "cell_type": "code",
      "source": [
        "'''\n",
        "VARIABLE TO GET NUMBER IOF ROWS AND COLUMNS IN ARR\n",
        "UNIDIMENSIONAL ARRAY---> LENGTH OF THE ARRAY\n",
        "2D ARRAY -->ROWS and COLUMNS\n",
        "3D ARRAY -->ROWS,COLUMNS,DEPTH,SLICES\n",
        "syntax\n",
        "array_varName.shape\n",
        "'''\n",
        "\n",
        "a=np.array([1,2,3])\n",
        "print(a.shape)\n",
        "a=np.array([[1,2,3],\n",
        "            [4,5,6],\n",
        "            [7,8,9]])\n",
        "print(a.shape)\n",
        "a=np.array([[1,2],\n",
        "            [4,5],\n",
        "            [7,9]])\n",
        "print(a.shape)\n",
        "\n",
        "a=np.array([[[1],\n",
        "            [4]],\n",
        "            [[7],\n",
        "             [3]]])\n",
        "print(a.shape)"
      ],
      "metadata": {
        "colab": {
          "base_uri": "https://localhost:8080/"
        },
        "id": "OGRNRBP_0j2Y",
        "outputId": "cd73f271-fe0d-471a-9436-ad6b994896eb"
      },
      "execution_count": null,
      "outputs": [
        {
          "output_type": "stream",
          "name": "stdout",
          "text": [
            "(3,)\n",
            "(3, 3)\n",
            "(3, 2)\n",
            "(2, 2, 1)\n"
          ]
        }
      ]
    },
    {
      "cell_type": "markdown",
      "source": [
        "**RE SHAPE**\n"
      ],
      "metadata": {
        "id": "3IotgKgi7opW"
      }
    },
    {
      "cell_type": "code",
      "source": [
        "'''\n",
        "it is used to change the no of col and rows and rows in existing array\n",
        "syntax\n",
        "  arr_varname.reshape(rows,col)\n",
        "'''\n",
        "\n",
        "a=np.array([[1,2,3,6,],\n",
        "           [1,2,3,6],\n",
        "           [1,2,3,6],\n",
        "           [1,2,3,6]])\n",
        "print(a.shape)\n",
        "a=a.reshape(2,8)\n",
        "print(a.shape)\n",
        "\n",
        "\n",
        "# note =the product of no of rowa and col should be equals to the no of value present in array"
      ],
      "metadata": {
        "colab": {
          "base_uri": "https://localhost:8080/"
        },
        "id": "8Hi1bBAU7oT1",
        "outputId": "e0460bb3-056e-4e53-83c5-a3cb8413b298"
      },
      "execution_count": null,
      "outputs": [
        {
          "output_type": "stream",
          "name": "stdout",
          "text": [
            "(4, 4)\n",
            "(2, 8)\n"
          ]
        }
      ]
    },
    {
      "cell_type": "code",
      "source": [
        "#converting into 2d to 1d\n",
        "\n",
        "##synatax\n",
        "#    arr_var_name.reshape(-1)\n",
        "a=np.array([[1,2,3,6,],\n",
        "           [1,2,3,6],\n",
        "           [1,2,3,6],\n",
        "           [1,2,3,6]])\n",
        "print(a.shape)\n",
        "a=a.reshape(-1)\n",
        "print(a.ndim)"
      ],
      "metadata": {
        "colab": {
          "base_uri": "https://localhost:8080/"
        },
        "id": "YNGDesaE-Pyj",
        "outputId": "0aed0ef0-de2f-43d7-fda5-4aed4f5b32a0"
      },
      "execution_count": null,
      "outputs": [
        {
          "output_type": "stream",
          "name": "stdout",
          "text": [
            "(4, 4)\n",
            "1\n"
          ]
        }
      ]
    },
    {
      "cell_type": "code",
      "source": [],
      "metadata": {
        "id": "_qM5jc6jAawp"
      },
      "execution_count": null,
      "outputs": []
    },
    {
      "cell_type": "markdown",
      "source": [
        "**ndim**"
      ],
      "metadata": {
        "id": "zvIDLcCUAWfW"
      }
    },
    {
      "cell_type": "code",
      "source": [
        "#synatax\n",
        "# ndmin=dimension of arary\n",
        "\n",
        "a=np.array([1,2,3])\n",
        "print(a.ndim)\n",
        "a=np.array([1,2,3],ndmin=64)#64 bit is the highest value of the ndmin\n",
        "print(a.ndim)\n",
        "a"
      ],
      "metadata": {
        "colab": {
          "base_uri": "https://localhost:8080/"
        },
        "id": "XCR5HAdYAlE8",
        "outputId": "a9d123a6-4b39-437f-a89f-5e594de44cf0"
      },
      "execution_count": null,
      "outputs": [
        {
          "output_type": "stream",
          "name": "stdout",
          "text": [
            "1\n",
            "64\n"
          ]
        },
        {
          "output_type": "execute_result",
          "data": {
            "text/plain": [
              "array([[[[[[[[[[[[[[[[[[[[[[[[[[[[[[[[[[[[[[[[[[[[[[[[[[[[[[[[[[[[[[[[1,\n",
              "                                                                      2,\n",
              "                                                                      3]]]]]]]]]]]]]]]]]]]]]]]]]]]]]]]]]]]]]]]]]]]]]]]]]]]]]]]]]]]]]]]])"
            ]
          },
          "metadata": {},
          "execution_count": 19
        }
      ]
    },
    {
      "cell_type": "markdown",
      "source": [
        "**arange**"
      ],
      "metadata": {
        "id": "5sodiDwAC9E6"
      }
    },
    {
      "cell_type": "code",
      "source": [
        "#syntax\n",
        "# a=np.arrange(starting value,ending value+-,step value)\n",
        "\n",
        "a=np.arange(1,10,2)\n",
        "a\n",
        "a=np.arange(10,0,-1)\n",
        "a\n"
      ],
      "metadata": {
        "colab": {
          "base_uri": "https://localhost:8080/"
        },
        "id": "5B99HFsfDEfm",
        "outputId": "a972417e-2c24-4c7b-b2a7-dfc8da7fef22"
      },
      "execution_count": null,
      "outputs": [
        {
          "output_type": "execute_result",
          "data": {
            "text/plain": [
              "array([10,  9,  8,  7,  6,  5,  4,  3,  2,  1])"
            ]
          },
          "metadata": {},
          "execution_count": 20
        }
      ]
    },
    {
      "cell_type": "markdown",
      "source": [
        "LINSPACE"
      ],
      "metadata": {
        "id": "tVnDPNDg7zsl"
      }
    },
    {
      "cell_type": "code",
      "source": [
        "'''SYANTAX\n",
        "   np.linspace(starting val,ending val,no of value)\n",
        "   if we are not providig the n0 value by default it will give value'''\n",
        "\n",
        "a=np.linspace(1,10,5)\n",
        "print(a)"
      ],
      "metadata": {
        "colab": {
          "base_uri": "https://localhost:8080/"
        },
        "id": "wu3Gp0ZW7zTf",
        "outputId": "98a59f84-d3da-44fe-f1b8-da8801acfa99"
      },
      "execution_count": null,
      "outputs": [
        {
          "output_type": "stream",
          "name": "stdout",
          "text": [
            "[ 1.    3.25  5.5   7.75 10.  ]\n"
          ]
        }
      ]
    },
    {
      "cell_type": "markdown",
      "source": [
        "**randint**"
      ],
      "metadata": {
        "id": "veuDIf4t93yJ"
      }
    },
    {
      "cell_type": "code",
      "source": [
        "'''\n",
        "unidimensional array\n",
        "\n",
        "np.random.randint(starting val,ending val+1,no of value)\n",
        "\n",
        "---> 2d array\n",
        "np.random.randint(starting val,ending val+1,(rows,col))\n",
        "\n",
        "--->3d array\n",
        "np.random.randint(starting val,ending val+1,(slice,rows,col))4\n",
        "\n",
        "\n",
        "note- ending value exclusive\n",
        "'''\n",
        "\n",
        "np.random.randint(1,11,50)\n",
        "np.random.randint(1,11,(2,3))\n",
        "np.random.randint(1,11,(2,3,4))"
      ],
      "metadata": {
        "colab": {
          "base_uri": "https://localhost:8080/"
        },
        "id": "jOQflJeZ92-i",
        "outputId": "215c4afc-1167-46f7-a2a1-bf26abd5ae2e"
      },
      "execution_count": null,
      "outputs": [
        {
          "output_type": "execute_result",
          "data": {
            "text/plain": [
              "array([[10,  9,  9],\n",
              "       [ 2,  8,  7]])"
            ]
          },
          "metadata": {},
          "execution_count": 24
        }
      ]
    },
    {
      "cell_type": "markdown",
      "source": [
        "**rand**"
      ],
      "metadata": {
        "id": "8qpiNR6fA2NR"
      }
    },
    {
      "cell_type": "code",
      "source": [
        "'''\n",
        "syantax\n",
        "\n",
        "np.random.rand(no of value)\n",
        "'''\n",
        "\n",
        "arr=np.random.rand(5)\n",
        "print(arr)\n",
        "arr=np.random.rand(2,3)\n",
        "print(arr)\n",
        "arr=np.random.rand(2,3,3)\n",
        "print(arr)"
      ],
      "metadata": {
        "colab": {
          "base_uri": "https://localhost:8080/"
        },
        "id": "b28LCuICA8L6",
        "outputId": "a7b40048-3567-4fd7-99bf-4d97d177a70f"
      },
      "execution_count": null,
      "outputs": [
        {
          "output_type": "stream",
          "name": "stdout",
          "text": [
            "[0.83613364 0.94142328 0.43281632 0.0882091  0.86964831]\n",
            "[[0.81805287 0.70528371 0.59624917]\n",
            " [0.16087394 0.89400913 0.27576103]]\n",
            "[[[0.42295392 0.69434033 0.99920698]\n",
            "  [0.4356746  0.13505258 0.51568792]\n",
            "  [0.35685762 0.46325243 0.7305923 ]]\n",
            "\n",
            " [[0.2482963  0.97321634 0.46863372]\n",
            "  [0.89472681 0.77659246 0.31554355]\n",
            "  [0.23968176 0.60586847 0.17615583]]]\n"
          ]
        }
      ]
    },
    {
      "cell_type": "markdown",
      "source": [
        "**randn()**\n"
      ],
      "metadata": {
        "id": "dkY75-QaC85N"
      }
    },
    {
      "cell_type": "code",
      "source": [
        "'''\n",
        "it is used to generate random no between infinity to infinity\n",
        "it is present in random module and random module present in numpypackage\n",
        "\n",
        "\n",
        "syantax\n",
        "np.random.randn(no of value)\n",
        "'''\n",
        "arr=np.random.randn(5)\n",
        "print(arr)\n",
        "arr=np.random.randn(2,3)\n",
        "print(arr)\n",
        "arr=np.random.randn(2,3,3)\n",
        "print(arr)\n",
        "\n"
      ],
      "metadata": {
        "colab": {
          "base_uri": "https://localhost:8080/"
        },
        "id": "pTLcNmOtDCou",
        "outputId": "e026abf1-6d4c-4c9e-b4e4-2d7573656492"
      },
      "execution_count": 26,
      "outputs": [
        {
          "output_type": "stream",
          "name": "stdout",
          "text": [
            "[ 0.45876383 -0.61488515  0.187244   -1.30757935  1.20696023]\n",
            "[[-0.78417305 -1.53588445 -0.43701779]\n",
            " [-0.37874585 -2.34831091  0.75457049]]\n",
            "[[[ 1.06699747  1.46623749 -1.15353757]\n",
            "  [ 0.14007    -0.048102    2.39104184]\n",
            "  [-0.17406079  1.25131495  0.36046749]]\n",
            "\n",
            " [[-0.17813177  1.06743722 -1.6606749 ]\n",
            "  [ 1.89800856 -0.52752966  0.93524982]\n",
            "  [-1.23016181  1.14221147 -1.30902194]]]\n"
          ]
        }
      ]
    },
    {
      "cell_type": "markdown",
      "source": [
        "**choice**"
      ],
      "metadata": {
        "id": "iZsINZymE_hQ"
      }
    },
    {
      "cell_type": "code",
      "source": [
        "'''\n",
        "\n",
        "synatx\n",
        "np.random.choice([list of value])\n",
        "'''\n",
        "np.random.choice([1,2,'hii',90.8,True])"
      ],
      "metadata": {
        "colab": {
          "base_uri": "https://localhost:8080/",
          "height": 34
        },
        "id": "UXBbI_nZFIt7",
        "outputId": "c99e0457-e3cf-41af-b09b-3aae25472294"
      },
      "execution_count": 27,
      "outputs": [
        {
          "output_type": "execute_result",
          "data": {
            "text/plain": [
              "np.str_('2')"
            ],
            "application/vnd.google.colaboratory.intrinsic+json": {
              "type": "string"
            }
          },
          "metadata": {},
          "execution_count": 27
        }
      ]
    },
    {
      "cell_type": "markdown",
      "source": [
        "**shuffle**\n"
      ],
      "metadata": {
        "id": "fIyF3XauG3nf"
      }
    },
    {
      "cell_type": "code",
      "source": [
        "'''syntax\n",
        "np.random.shuffl(col/arr_var)'''\n",
        "\n",
        "arr=np.array([1,2,7.8,'hii',False])\n",
        "\n",
        "np.random.shuffle(arr)\n",
        "print(a)"
      ],
      "metadata": {
        "colab": {
          "base_uri": "https://localhost:8080/"
        },
        "id": "9INuQiiyG2Cw",
        "outputId": "029da5d8-adad-4198-e6f3-a9252b595842"
      },
      "execution_count": 29,
      "outputs": [
        {
          "output_type": "stream",
          "name": "stdout",
          "text": [
            "[ 1.    3.25  5.5   7.75 10.  ]\n"
          ]
        }
      ]
    },
    {
      "cell_type": "markdown",
      "source": [
        "**copy**\n"
      ],
      "metadata": {
        "id": "1XWoaUGcIe1_"
      }
    },
    {
      "cell_type": "code",
      "source": [
        "'''\n",
        "syantx\n",
        "\n",
        "new_arr=old_arr.copy()\n",
        "'''\n",
        "arr=np.array([1,2,3,4,5])\n",
        "arr1=arr.copy()\n",
        "arr[1]=7\n",
        "print(arr1)\n",
        "print(arr)"
      ],
      "metadata": {
        "colab": {
          "base_uri": "https://localhost:8080/"
        },
        "id": "DQ8avMVeIiZW",
        "outputId": "a05b89e8-d32a-4360-f2ab-12fe4c7f1eab"
      },
      "execution_count": 30,
      "outputs": [
        {
          "output_type": "stream",
          "name": "stdout",
          "text": [
            "[1 2 3 4 5]\n",
            "[1 7 3 4 5]\n"
          ]
        }
      ]
    },
    {
      "cell_type": "markdown",
      "source": [
        "**view**"
      ],
      "metadata": {
        "id": "-oDHvnluJSkw"
      }
    },
    {
      "cell_type": "code",
      "source": [
        "'''\n",
        "syantax\n",
        "new_arr=old_arr.view()\n",
        "'''\n",
        "arr=np.array([1,2,3,4,5])\n",
        "arr1=arr.view()\n",
        "arr[1]=7\n",
        "print(arr1)\n",
        "print(arr)\n",
        "\n"
      ],
      "metadata": {
        "colab": {
          "base_uri": "https://localhost:8080/"
        },
        "id": "EZ9bWaEjJVYX",
        "outputId": "75ac577e-fcc4-4327-e1b9-b2314fccd394"
      },
      "execution_count": 32,
      "outputs": [
        {
          "output_type": "stream",
          "name": "stdout",
          "text": [
            "[1 7 3 4 5]\n",
            "[1 7 3 4 5]\n"
          ]
        }
      ]
    },
    {
      "cell_type": "markdown",
      "source": [
        "**zeros**\n"
      ],
      "metadata": {
        "id": "pwQFm0dUK-FH"
      }
    },
    {
      "cell_type": "code",
      "source": [
        "'''\n",
        "syantax\n",
        "#np.zeros(no values)\n",
        "#np.zeros((rows,col))#2 dimensional array\n",
        "#np.zeros((slice,rows,col))#3 dimensional array\n",
        "'''\n",
        "arr=np.zeros((4,4,10))\n",
        "print(arr)"
      ],
      "metadata": {
        "colab": {
          "base_uri": "https://localhost:8080/"
        },
        "id": "Yr6XIo6ULBFQ",
        "outputId": "f0776b3d-7399-4c0f-f798-a3e1dfa535a2"
      },
      "execution_count": 34,
      "outputs": [
        {
          "output_type": "stream",
          "name": "stdout",
          "text": [
            "[[[0. 0. 0. 0. 0. 0. 0. 0. 0. 0.]\n",
            "  [0. 0. 0. 0. 0. 0. 0. 0. 0. 0.]\n",
            "  [0. 0. 0. 0. 0. 0. 0. 0. 0. 0.]\n",
            "  [0. 0. 0. 0. 0. 0. 0. 0. 0. 0.]]\n",
            "\n",
            " [[0. 0. 0. 0. 0. 0. 0. 0. 0. 0.]\n",
            "  [0. 0. 0. 0. 0. 0. 0. 0. 0. 0.]\n",
            "  [0. 0. 0. 0. 0. 0. 0. 0. 0. 0.]\n",
            "  [0. 0. 0. 0. 0. 0. 0. 0. 0. 0.]]\n",
            "\n",
            " [[0. 0. 0. 0. 0. 0. 0. 0. 0. 0.]\n",
            "  [0. 0. 0. 0. 0. 0. 0. 0. 0. 0.]\n",
            "  [0. 0. 0. 0. 0. 0. 0. 0. 0. 0.]\n",
            "  [0. 0. 0. 0. 0. 0. 0. 0. 0. 0.]]\n",
            "\n",
            " [[0. 0. 0. 0. 0. 0. 0. 0. 0. 0.]\n",
            "  [0. 0. 0. 0. 0. 0. 0. 0. 0. 0.]\n",
            "  [0. 0. 0. 0. 0. 0. 0. 0. 0. 0.]\n",
            "  [0. 0. 0. 0. 0. 0. 0. 0. 0. 0.]]]\n"
          ]
        }
      ]
    },
    {
      "cell_type": "markdown",
      "source": [
        "**ones**"
      ],
      "metadata": {
        "id": "JPjZJZlUM9b8"
      }
    },
    {
      "cell_type": "code",
      "source": [
        "'''\n",
        "synatx\n",
        "\n",
        "np.ones(values)\n",
        "np.ones((rows,col))\n",
        "np.ones((slices,rows,col))\n",
        "\n",
        "'''\n",
        "arr=np.ones(10)\n",
        "print(arr)\n",
        "arr=np.ones((3,3))\n",
        "print(arr)\n",
        "arr=np.ones((2,3,4))\n",
        "print(arr)"
      ],
      "metadata": {
        "colab": {
          "base_uri": "https://localhost:8080/"
        },
        "id": "O54Slgd_NCts",
        "outputId": "f0d95cee-fd03-4618-f330-8696bd77dc86"
      },
      "execution_count": 37,
      "outputs": [
        {
          "output_type": "stream",
          "name": "stdout",
          "text": [
            "[1. 1. 1. 1. 1. 1. 1. 1. 1. 1.]\n",
            "[[1. 1. 1.]\n",
            " [1. 1. 1.]\n",
            " [1. 1. 1.]]\n",
            "[[[1. 1. 1. 1.]\n",
            "  [1. 1. 1. 1.]\n",
            "  [1. 1. 1. 1.]]\n",
            "\n",
            " [[1. 1. 1. 1.]\n",
            "  [1. 1. 1. 1.]\n",
            "  [1. 1. 1. 1.]]]\n"
          ]
        }
      ]
    },
    {
      "cell_type": "markdown",
      "source": [
        "**identity**\n"
      ],
      "metadata": {
        "id": "vQfO7RSCOp--"
      }
    },
    {
      "cell_type": "code",
      "source": [
        "'''synatx\n",
        "np.identity(values of matrix)\n",
        "'''\n",
        "arr=np.identity(4)\n",
        "print(arr)\n"
      ],
      "metadata": {
        "colab": {
          "base_uri": "https://localhost:8080/"
        },
        "id": "bpt-Ob5xOw3C",
        "outputId": "afe70ae1-0613-4b64-d279-80b046d6f2a7"
      },
      "execution_count": 39,
      "outputs": [
        {
          "output_type": "stream",
          "name": "stdout",
          "text": [
            "[[1. 0. 0. 0.]\n",
            " [0. 1. 0. 0.]\n",
            " [0. 0. 1. 0.]\n",
            " [0. 0. 0. 1.]]\n"
          ]
        }
      ]
    }
  ]
}